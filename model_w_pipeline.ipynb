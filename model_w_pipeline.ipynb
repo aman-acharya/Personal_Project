{
 "cells": [
  {
   "cell_type": "code",
   "execution_count": 1,
   "metadata": {},
   "outputs": [],
   "source": [
    "import numpy as np\n",
    "import pandas as pd\n",
    "import matplotlib.pyplot as plt\n",
    "import seaborn as sns"
   ]
  },
  {
   "cell_type": "code",
   "execution_count": 6,
   "metadata": {},
   "outputs": [
    {
     "data": {
      "text/html": [
       "<div>\n",
       "<style scoped>\n",
       "    .dataframe tbody tr th:only-of-type {\n",
       "        vertical-align: middle;\n",
       "    }\n",
       "\n",
       "    .dataframe tbody tr th {\n",
       "        vertical-align: top;\n",
       "    }\n",
       "\n",
       "    .dataframe thead th {\n",
       "        text-align: right;\n",
       "    }\n",
       "</style>\n",
       "<table border=\"1\" class=\"dataframe\">\n",
       "  <thead>\n",
       "    <tr style=\"text-align: right;\">\n",
       "      <th></th>\n",
       "      <th>Review</th>\n",
       "      <th>Sentiment</th>\n",
       "    </tr>\n",
       "  </thead>\n",
       "  <tbody>\n",
       "    <tr>\n",
       "      <th>0</th>\n",
       "      <td>Love!! We have the kung pao chicken, broccoli ...</td>\n",
       "      <td>1</td>\n",
       "    </tr>\n",
       "    <tr>\n",
       "      <th>1</th>\n",
       "      <td>The new location that JH has moved into was a ...</td>\n",
       "      <td>1</td>\n",
       "    </tr>\n",
       "    <tr>\n",
       "      <th>2</th>\n",
       "      <td>Delicious food. If you asked me to recommend a...</td>\n",
       "      <td>1</td>\n",
       "    </tr>\n",
       "    <tr>\n",
       "      <th>3</th>\n",
       "      <td>I have been looking forward to Joe's Shanghai ...</td>\n",
       "      <td>1</td>\n",
       "    </tr>\n",
       "    <tr>\n",
       "      <th>4</th>\n",
       "      <td>I always come here just for the dumplings when...</td>\n",
       "      <td>1</td>\n",
       "    </tr>\n",
       "  </tbody>\n",
       "</table>\n",
       "</div>"
      ],
      "text/plain": [
       "                                              Review  Sentiment\n",
       "0  Love!! We have the kung pao chicken, broccoli ...          1\n",
       "1  The new location that JH has moved into was a ...          1\n",
       "2  Delicious food. If you asked me to recommend a...          1\n",
       "3  I have been looking forward to Joe's Shanghai ...          1\n",
       "4  I always come here just for the dumplings when...          1"
      ]
     },
     "execution_count": 6,
     "metadata": {},
     "output_type": "execute_result"
    }
   ],
   "source": [
    "data = pd.read_csv('balanced_restaurant_reviews.csv')\n",
    "data.head()"
   ]
  },
  {
   "cell_type": "code",
   "execution_count": 7,
   "metadata": {},
   "outputs": [
    {
     "data": {
      "text/html": [
       "<div>\n",
       "<style scoped>\n",
       "    .dataframe tbody tr th:only-of-type {\n",
       "        vertical-align: middle;\n",
       "    }\n",
       "\n",
       "    .dataframe tbody tr th {\n",
       "        vertical-align: top;\n",
       "    }\n",
       "\n",
       "    .dataframe thead th {\n",
       "        text-align: right;\n",
       "    }\n",
       "</style>\n",
       "<table border=\"1\" class=\"dataframe\">\n",
       "  <thead>\n",
       "    <tr style=\"text-align: right;\">\n",
       "      <th></th>\n",
       "      <th>Review</th>\n",
       "      <th>Sentiment</th>\n",
       "    </tr>\n",
       "  </thead>\n",
       "  <tbody>\n",
       "    <tr>\n",
       "      <th>4471</th>\n",
       "      <td>The infamous 'soup dumpling' was just ok - not...</td>\n",
       "      <td>0</td>\n",
       "    </tr>\n",
       "    <tr>\n",
       "      <th>4472</th>\n",
       "      <td>overrated dumplings, overrated in general but ...</td>\n",
       "      <td>0</td>\n",
       "    </tr>\n",
       "    <tr>\n",
       "      <th>4473</th>\n",
       "      <td>Best soup dumplings in town!  Crab with pork s...</td>\n",
       "      <td>0</td>\n",
       "    </tr>\n",
       "    <tr>\n",
       "      <th>4474</th>\n",
       "      <td>Disappointed in the food. I ordered one of the...</td>\n",
       "      <td>0</td>\n",
       "    </tr>\n",
       "    <tr>\n",
       "      <th>4475</th>\n",
       "      <td>Place is not clean. hardly anyone speaks Engli...</td>\n",
       "      <td>0</td>\n",
       "    </tr>\n",
       "  </tbody>\n",
       "</table>\n",
       "</div>"
      ],
      "text/plain": [
       "                                                 Review  Sentiment\n",
       "4471  The infamous 'soup dumpling' was just ok - not...          0\n",
       "4472  overrated dumplings, overrated in general but ...          0\n",
       "4473  Best soup dumplings in town!  Crab with pork s...          0\n",
       "4474  Disappointed in the food. I ordered one of the...          0\n",
       "4475  Place is not clean. hardly anyone speaks Engli...          0"
      ]
     },
     "execution_count": 7,
     "metadata": {},
     "output_type": "execute_result"
    }
   ],
   "source": [
    "data.tail()"
   ]
  },
  {
   "cell_type": "code",
   "execution_count": 10,
   "metadata": {},
   "outputs": [],
   "source": [
    "from sklearn.base import BaseEstimator, TransformerMixin\n",
    "from sklearn.pipeline import Pipeline\n",
    "from sklearn.feature_extraction.text import TfidfVectorizer\n",
    "from sklearn.model_selection import train_test_split\n",
    "from sklearn.linear_model import LogisticRegression\n",
    "from sklearn.metrics import classification_report, accuracy_score\n",
    "from nltk.corpus import stopwords\n",
    "from nltk.stem import WordNetLemmatizer\n",
    "import re\n",
    "import string\n",
    "import nltk\n",
    "from sklearn.model_selection import train_test_split"
   ]
  },
  {
   "cell_type": "code",
   "execution_count": 18,
   "metadata": {},
   "outputs": [],
   "source": [
    "X = data['Review']\n",
    "y = data['Sentiment']\n",
    "\n",
    "X_train, X_test, y_train, y_test = train_test_split(X, y, test_size=0.2, random_state=42)\n"
   ]
  },
  {
   "cell_type": "code",
   "execution_count": 21,
   "metadata": {},
   "outputs": [],
   "source": [
    "# lets crteate a class to preprocess the review\n",
    "class TextPreprocessor(BaseEstimator, TransformerMixin):\n",
    "    def __init__(self, remove_stopwords=True, remove_punctuations=True, lemmatize=True):\n",
    "        self.remove_stopwords = remove_stopwords\n",
    "        self.remove_punctuations = remove_punctuations\n",
    "        self.lemmatize = lemmatize\n",
    "        self.lemmatizer = WordNetLemmatizer()\n",
    "        \n",
    "    def fit(self, X, y=None):\n",
    "        return self\n",
    "    \n",
    "    def transform(self, X, y=None):\n",
    "        X = X.apply(self._clean_text)\n",
    "        return X\n",
    "    \n",
    "    def _clean_text(self, text):\n",
    "        text = text.lower()\n",
    "        if self.remove_punctuations:\n",
    "            text = self._remove_punctuations(text)\n",
    "        if self.remove_stopwords:\n",
    "            text = self._remove_stopwords(text)\n",
    "        if self.lemmatize:\n",
    "            text = self._lemmatize(text)\n",
    "        return text\n",
    "    \n",
    "    def _remove_punctuations(self, text):\n",
    "        text = re.sub(f'[{re.escape(string.punctuation)}]', '', text)\n",
    "        return text\n",
    "    \n",
    "    def _remove_stopwords(self, text):\n",
    "        stop_words = set(stopwords.words('english'))\n",
    "        text = ' '.join([word for word in text.split() if word not in stop_words])\n",
    "        return text\n",
    "    \n",
    "    def _lemmatize(self, text):\n",
    "        text = ' '.join([self.lemmatizer.lemmatize(word) for word in text.split()])\n",
    "        return text"
   ]
  },
  {
   "cell_type": "code",
   "execution_count": 40,
   "metadata": {},
   "outputs": [],
   "source": [
    "class TextTokenizer(BaseEstimator, TransformerMixin):\n",
    "    def __init__(self):\n",
    "        self.tokenizer = TfidfVectorizer()\n",
    "        \n",
    "    def fit(self, X, y=None):\n",
    "        self.tokenizer.fit(X)\n",
    "        return self\n",
    "    \n",
    "    def transform(self, X, y=None):\n",
    "        return self.tokenizer.transform(X)"
   ]
  },
  {
   "cell_type": "code",
   "execution_count": 46,
   "metadata": {},
   "outputs": [],
   "source": [
    "from sklearn.ensemble import RandomForestClassifier\n",
    "from sklearn.svm import SVC\n",
    "from sklearn.naive_bayes import MultinomialNB"
   ]
  },
  {
   "cell_type": "code",
   "execution_count": 47,
   "metadata": {},
   "outputs": [],
   "source": [
    "# lets create a pipeline to preprocess the text data\n",
    "logistic_pipeline = Pipeline([\n",
    "    ('preprocessor', TextPreprocessor()),\n",
    "    ('tokenizer', TextTokenizer()),\n",
    "    ('classifier', LogisticRegression())\n",
    "])\n",
    "\n",
    "rf_pipeline = Pipeline([\n",
    "    ('preprocessor', TextPreprocessor()),\n",
    "    ('tokenizer', TextTokenizer()),\n",
    "    ('classifier', RandomForestClassifier())\n",
    "])\n",
    "\n",
    "svm_pipeline = Pipeline([\n",
    "    ('preprocessor', TextPreprocessor()),\n",
    "    ('tokenizer', TextTokenizer()),\n",
    "    ('classifier', SVC())\n",
    "])\n",
    "\n",
    "nb_pipeline = Pipeline([\n",
    "    ('preprocessor', TextPreprocessor()),\n",
    "    ('tokenizer', TextTokenizer()),\n",
    "    ('classifier', MultinomialNB())\n",
    "])\n",
    "\n"
   ]
  },
  {
   "cell_type": "code",
   "execution_count": 49,
   "metadata": {},
   "outputs": [
    {
     "name": "stdout",
     "output_type": "stream",
     "text": [
      "Accuracy: 0.8013392857142857\n",
      "              precision    recall  f1-score   support\n",
      "\n",
      "           0       0.79      0.79      0.79       434\n",
      "           1       0.81      0.81      0.81       462\n",
      "\n",
      "    accuracy                           0.80       896\n",
      "   macro avg       0.80      0.80      0.80       896\n",
      "weighted avg       0.80      0.80      0.80       896\n",
      "\n",
      "Accuracy: 0.7779017857142857\n",
      "              precision    recall  f1-score   support\n",
      "\n",
      "           0       0.77      0.78      0.77       434\n",
      "           1       0.79      0.78      0.78       462\n",
      "\n",
      "    accuracy                           0.78       896\n",
      "   macro avg       0.78      0.78      0.78       896\n",
      "weighted avg       0.78      0.78      0.78       896\n",
      "\n",
      "Accuracy: 0.8125\n",
      "              precision    recall  f1-score   support\n",
      "\n",
      "           0       0.81      0.81      0.81       434\n",
      "           1       0.82      0.82      0.82       462\n",
      "\n",
      "    accuracy                           0.81       896\n",
      "   macro avg       0.81      0.81      0.81       896\n",
      "weighted avg       0.81      0.81      0.81       896\n",
      "\n",
      "Accuracy: 0.8113839285714286\n",
      "              precision    recall  f1-score   support\n",
      "\n",
      "           0       0.80      0.81      0.81       434\n",
      "           1       0.82      0.82      0.82       462\n",
      "\n",
      "    accuracy                           0.81       896\n",
      "   macro avg       0.81      0.81      0.81       896\n",
      "weighted avg       0.81      0.81      0.81       896\n",
      "\n"
     ]
    }
   ],
   "source": [
    "for pipeline in [logistic_pipeline, rf_pipeline, svm_pipeline, nb_pipeline]:\n",
    "    pipeline.fit(X_train, y_train)\n",
    "    y_pred = pipeline.predict(X_test)\n",
    "    print(f'Accuracy: {accuracy_score(y_test, y_pred)}')\n",
    "    print(classification_report(y_test, y_pred))"
   ]
  },
  {
   "cell_type": "code",
   "execution_count": 50,
   "metadata": {},
   "outputs": [
    {
     "data": {
      "text/plain": [
       "['nb_pipeline.pkl']"
      ]
     },
     "execution_count": 50,
     "metadata": {},
     "output_type": "execute_result"
    }
   ],
   "source": [
    "# Lets save all the models\n",
    "import joblib\n",
    "joblib.dump(logistic_pipeline, 'logistic_pipeline.pkl')\n",
    "joblib.dump(rf_pipeline, 'rf_pipeline.pkl')\n",
    "joblib.dump(svm_pipeline, 'svm_pipeline.pkl')\n",
    "joblib.dump(nb_pipeline, 'nb_pipeline.pkl')\n"
   ]
  },
  {
   "cell_type": "code",
   "execution_count": null,
   "metadata": {},
   "outputs": [],
   "source": []
  }
 ],
 "metadata": {
  "kernelspec": {
   "display_name": "Python 3",
   "language": "python",
   "name": "python3"
  },
  "language_info": {
   "codemirror_mode": {
    "name": "ipython",
    "version": 3
   },
   "file_extension": ".py",
   "mimetype": "text/x-python",
   "name": "python",
   "nbconvert_exporter": "python",
   "pygments_lexer": "ipython3",
   "version": "3.12.3"
  }
 },
 "nbformat": 4,
 "nbformat_minor": 2
}
