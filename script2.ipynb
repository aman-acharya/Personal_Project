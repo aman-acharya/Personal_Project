{
 "cells": [
  {
   "cell_type": "code",
   "execution_count": 1,
   "metadata": {},
   "outputs": [],
   "source": [
    "import pandas as pd\n",
    "import numpy as np\n",
    "import matplotlib.pyplot as plt\n",
    "import seaborn as sns\n",
    "import spacy\n",
    "import string\n",
    "import re\n",
    "import nltk\n",
    "from sklearn.model_selection import train_test_split\n",
    "from sklearn.linear_model import LogisticRegression\n",
    "from sklearn.ensemble import RandomForestClassifier\n",
    "from sklearn.naive_bayes import MultinomialNB\n",
    "from sklearn.svm import SVC\n",
    "from sklearn.feature_extraction.text import TfidfVectorizer\n",
    "from nltk.tokenize import word_tokenize\n",
    "from sklearn.model_selection import GridSearchCV\n",
    "from sklearn.model_selection import cross_val_score\n",
    "from sklearn.metrics import accuracy_score, confusion_matrix, classification_report"
   ]
  },
  {
   "cell_type": "code",
   "execution_count": 20,
   "metadata": {},
   "outputs": [
    {
     "data": {
      "text/html": [
       "<div>\n",
       "<style scoped>\n",
       "    .dataframe tbody tr th:only-of-type {\n",
       "        vertical-align: middle;\n",
       "    }\n",
       "\n",
       "    .dataframe tbody tr th {\n",
       "        vertical-align: top;\n",
       "    }\n",
       "\n",
       "    .dataframe thead th {\n",
       "        text-align: right;\n",
       "    }\n",
       "</style>\n",
       "<table border=\"1\" class=\"dataframe\">\n",
       "  <thead>\n",
       "    <tr style=\"text-align: right;\">\n",
       "      <th></th>\n",
       "      <th>Review</th>\n",
       "      <th>Rating</th>\n",
       "    </tr>\n",
       "  </thead>\n",
       "  <tbody>\n",
       "    <tr>\n",
       "      <th>0</th>\n",
       "      <td>This place has the best dumplings I've ever ha...</td>\n",
       "      <td>5</td>\n",
       "    </tr>\n",
       "    <tr>\n",
       "      <th>1</th>\n",
       "      <td>Came here on a weekend visit to NY, my friend ...</td>\n",
       "      <td>4</td>\n",
       "    </tr>\n",
       "    <tr>\n",
       "      <th>2</th>\n",
       "      <td>The best soup dumplings in NYC! There is no ot...</td>\n",
       "      <td>5</td>\n",
       "    </tr>\n",
       "    <tr>\n",
       "      <th>3</th>\n",
       "      <td>I was so disappointed with my visit to Joes. N...</td>\n",
       "      <td>1</td>\n",
       "    </tr>\n",
       "    <tr>\n",
       "      <th>4</th>\n",
       "      <td>So much fun!  we stayed at Hotel 50\\r\\nRight n...</td>\n",
       "      <td>5</td>\n",
       "    </tr>\n",
       "  </tbody>\n",
       "</table>\n",
       "</div>"
      ],
      "text/plain": [
       "                                              Review  Rating\n",
       "0  This place has the best dumplings I've ever ha...       5\n",
       "1  Came here on a weekend visit to NY, my friend ...       4\n",
       "2  The best soup dumplings in NYC! There is no ot...       5\n",
       "3  I was so disappointed with my visit to Joes. N...       1\n",
       "4  So much fun!  we stayed at Hotel 50\\r\\nRight n...       5"
      ]
     },
     "execution_count": 20,
     "metadata": {},
     "output_type": "execute_result"
    }
   ],
   "source": [
    "# load the data\n",
    "data = pd.read_csv('restaurant_reviews.csv')\n",
    "data.head()"
   ]
  },
  {
   "cell_type": "code",
   "execution_count": 21,
   "metadata": {},
   "outputs": [
    {
     "name": "stderr",
     "output_type": "stream",
     "text": [
      "<>:5: SyntaxWarning: invalid escape sequence '\\s'\n",
      "<>:5: SyntaxWarning: invalid escape sequence '\\s'\n",
      "C:\\Users\\A S U S\\AppData\\Local\\Temp\\ipykernel_1812\\1311990623.py:5: SyntaxWarning: invalid escape sequence '\\s'\n",
      "  text = re.sub('\\s+', ' ', text)  # Replace multiple whitespace characters with a single space\n"
     ]
    }
   ],
   "source": [
    "nlp = spacy.load('en_core_web_sm')\n",
    "def clean_text(text):\n",
    "    text = text.lower()\n",
    "    text = re.sub('[^a-zA-Z]', ' ', text)  # Keep only lowercase and uppercase letters\n",
    "    text = re.sub('\\s+', ' ', text)  # Replace multiple whitespace characters with a single space\n",
    "    text = nlp(text)\n",
    "    text = [word.lemma_ for word in text if not word.is_stop and not word.is_punct and not word.like_num]\n",
    "    text = ' '.join(text)\n",
    "    return text"
   ]
  },
  {
   "cell_type": "code",
   "execution_count": 22,
   "metadata": {},
   "outputs": [],
   "source": [
    "# Define a custom tokenizer\n",
    "def custom_tokenizer(text):\n",
    "    # Use NLTK's word_tokenize function to tokenize the text\n",
    "    tokens = word_tokenize(text)\n",
    "    # Return the tokens\n",
    "    return tokens\n"
   ]
  },
  {
   "cell_type": "code",
   "execution_count": 23,
   "metadata": {},
   "outputs": [],
   "source": [
    "# lets create a new feature 'Length' and 'Sentiment'\n",
    "data['Length'] = data['Review'].apply(len)\n",
    "data['Sentiment'] = data['Rating'].apply(lambda x: 'Positive' if x >= 4 else 'Negative')\n"
   ]
  },
  {
   "cell_type": "code",
   "execution_count": 24,
   "metadata": {},
   "outputs": [],
   "source": [
    "# X = tfidf_vectorizer.fit_transform(data['Tokenized_Review'].apply(' '.join))\n",
    "# y = data['Sentiment']"
   ]
  },
  {
   "cell_type": "code",
   "execution_count": 25,
   "metadata": {},
   "outputs": [],
   "source": [
    "# X_train, X_test, y_train, y_test = train_test_split(X, y, test_size=0.2, random_state=42)\n"
   ]
  },
  {
   "cell_type": "code",
   "execution_count": 26,
   "metadata": {},
   "outputs": [],
   "source": [
    "# models = {'LR' : LogisticRegression(), 'RF' : RandomForestClassifier(), 'NB' : MultinomialNB(), 'SVM' : SVC()}\n",
    "# vectorizers = {'TF-IDF' : TfidfVectorizer()}\n",
    "\n",
    "# parameters = {'LR' : {'C' : [0.001, 0.01, 0.1, 1, 10, 100]},\n",
    "#                 'RF' : {'n_estimators' : [50, 100, 200]},\n",
    "#                 'NB' : {'alpha' : [0.5, 1, 2]},\n",
    "#                 'SVM' : {'C' : [0.1, 1, 10], 'gamma' : [0.1, 1, 10]}}\n",
    "# results = []\n",
    "\n",
    "# for model_name, model in models.items():\n",
    "#     for vectorizer_name, vectorizer in vectorizers.items():\n",
    "#         pipeline = GridSearchCV(model, parameters[model_name], cv=5)\n",
    "#         pipeline.fit(vectorizer.fit_transform(data['Tokenized_Review'].apply(' '.join)), data['Sentiment'])\n",
    "#         results.append({'model' : model_name, 'vectorizer' : vectorizer_name, 'best_params' : pipeline.best_params_, 'best_score' : pipeline.best_score_})\n"
   ]
  },
  {
   "cell_type": "code",
   "execution_count": 27,
   "metadata": {},
   "outputs": [],
   "source": [
    "# results = pd.DataFrame(results)\n",
    "# results"
   ]
  },
  {
   "cell_type": "code",
   "execution_count": 28,
   "metadata": {},
   "outputs": [],
   "source": [
    "# # lets train the model\n",
    "# model = LogisticRegression(C=1)\n",
    "# model.fit(X_train, y_train)\n",
    "# # use k-fold cross validation to evaluate the model\n",
    "# from sklearn.model_selection import cross_val_score\n",
    "# scores = cross_val_score(model, X_train, y_train, cv=5)\n",
    "# print('Cross-validation scores: {}'.format(scores))\n",
    "# print('Average cross-validation score: {:.2f}'.format(scores.mean()))"
   ]
  },
  {
   "cell_type": "code",
   "execution_count": 29,
   "metadata": {},
   "outputs": [],
   "source": [
    "# confusion_matrix(y_test, model.predict(X_test))"
   ]
  },
  {
   "cell_type": "code",
   "execution_count": 30,
   "metadata": {},
   "outputs": [],
   "source": [
    "# # lets try svm\n",
    "# model = SVC(C=10, gamma=1)\n",
    "# model.fit(X_train, y_train)\n",
    "# # use k-fold cross validation to evaluate the model\n",
    "# from sklearn.model_selection import cross_val_score\n",
    "# scores = cross_val_score(model, X_train, y_train, cv=5)\n",
    "# print('Cross-validation scores: {}'.format(scores))\n",
    "# print('Average cross-validation score: {:.2f}'.format(scores.mean()))"
   ]
  },
  {
   "cell_type": "code",
   "execution_count": 31,
   "metadata": {},
   "outputs": [
    {
     "data": {
      "text/plain": [
       "Sentiment\n",
       "Positive    5042\n",
       "Negative    2238\n",
       "Name: count, dtype: int64"
      ]
     },
     "execution_count": 31,
     "metadata": {},
     "output_type": "execute_result"
    }
   ],
   "source": [
    "data.Sentiment.value_counts()"
   ]
  },
  {
   "cell_type": "code",
   "execution_count": 32,
   "metadata": {},
   "outputs": [],
   "source": [
    "# lets extract equal number of positive and negative reviews\n",
    "positive_reviews = data[data['Sentiment'] == 'Positive'].sample(2238)\n",
    "negative_reviews = data[data['Sentiment'] == 'Negative'].sample(2238)\n"
   ]
  },
  {
   "cell_type": "code",
   "execution_count": 33,
   "metadata": {},
   "outputs": [
    {
     "data": {
      "text/plain": [
       "Sentiment\n",
       "Positive    2238\n",
       "Negative    2238\n",
       "Name: count, dtype: int64"
      ]
     },
     "execution_count": 33,
     "metadata": {},
     "output_type": "execute_result"
    }
   ],
   "source": [
    "data = pd.concat([positive_reviews, negative_reviews]).reset_index(drop=True)\n",
    "data.Sentiment.value_counts()"
   ]
  },
  {
   "cell_type": "code",
   "execution_count": 34,
   "metadata": {},
   "outputs": [
    {
     "data": {
      "text/html": [
       "<div>\n",
       "<style scoped>\n",
       "    .dataframe tbody tr th:only-of-type {\n",
       "        vertical-align: middle;\n",
       "    }\n",
       "\n",
       "    .dataframe tbody tr th {\n",
       "        vertical-align: top;\n",
       "    }\n",
       "\n",
       "    .dataframe thead th {\n",
       "        text-align: right;\n",
       "    }\n",
       "</style>\n",
       "<table border=\"1\" class=\"dataframe\">\n",
       "  <thead>\n",
       "    <tr style=\"text-align: right;\">\n",
       "      <th></th>\n",
       "      <th>Review</th>\n",
       "      <th>Rating</th>\n",
       "      <th>Length</th>\n",
       "      <th>Sentiment</th>\n",
       "    </tr>\n",
       "  </thead>\n",
       "  <tbody>\n",
       "    <tr>\n",
       "      <th>0</th>\n",
       "      <td>Prompt service. Wait wasn't that bad. Organize...</td>\n",
       "      <td>5</td>\n",
       "      <td>208</td>\n",
       "      <td>Positive</td>\n",
       "    </tr>\n",
       "    <tr>\n",
       "      <th>1</th>\n",
       "      <td>The soup dumplings!!' WOW!! I'm still thinking...</td>\n",
       "      <td>5</td>\n",
       "      <td>404</td>\n",
       "      <td>Positive</td>\n",
       "    </tr>\n",
       "    <tr>\n",
       "      <th>2</th>\n",
       "      <td>My friend brought me here and it was on my lis...</td>\n",
       "      <td>5</td>\n",
       "      <td>328</td>\n",
       "      <td>Positive</td>\n",
       "    </tr>\n",
       "    <tr>\n",
       "      <th>3</th>\n",
       "      <td>THE BEST PORK DUMPLINGS IN THE WORLD!! Steamy ...</td>\n",
       "      <td>5</td>\n",
       "      <td>402</td>\n",
       "      <td>Positive</td>\n",
       "    </tr>\n",
       "    <tr>\n",
       "      <th>4</th>\n",
       "      <td>As good as it gets! What a wonderful place. Ev...</td>\n",
       "      <td>5</td>\n",
       "      <td>457</td>\n",
       "      <td>Positive</td>\n",
       "    </tr>\n",
       "  </tbody>\n",
       "</table>\n",
       "</div>"
      ],
      "text/plain": [
       "                                              Review  Rating  Length Sentiment\n",
       "0  Prompt service. Wait wasn't that bad. Organize...       5     208  Positive\n",
       "1  The soup dumplings!!' WOW!! I'm still thinking...       5     404  Positive\n",
       "2  My friend brought me here and it was on my lis...       5     328  Positive\n",
       "3  THE BEST PORK DUMPLINGS IN THE WORLD!! Steamy ...       5     402  Positive\n",
       "4  As good as it gets! What a wonderful place. Ev...       5     457  Positive"
      ]
     },
     "execution_count": 34,
     "metadata": {},
     "output_type": "execute_result"
    }
   ],
   "source": [
    "data.head()"
   ]
  },
  {
   "cell_type": "code",
   "execution_count": 35,
   "metadata": {},
   "outputs": [],
   "source": [
    "data['Review'] = data['Review'].apply(clean_text)"
   ]
  },
  {
   "cell_type": "code",
   "execution_count": 36,
   "metadata": {},
   "outputs": [
    {
     "data": {
      "text/html": [
       "<div>\n",
       "<style scoped>\n",
       "    .dataframe tbody tr th:only-of-type {\n",
       "        vertical-align: middle;\n",
       "    }\n",
       "\n",
       "    .dataframe tbody tr th {\n",
       "        vertical-align: top;\n",
       "    }\n",
       "\n",
       "    .dataframe thead th {\n",
       "        text-align: right;\n",
       "    }\n",
       "</style>\n",
       "<table border=\"1\" class=\"dataframe\">\n",
       "  <thead>\n",
       "    <tr style=\"text-align: right;\">\n",
       "      <th></th>\n",
       "      <th>Review</th>\n",
       "      <th>Rating</th>\n",
       "      <th>Length</th>\n",
       "      <th>Sentiment</th>\n",
       "    </tr>\n",
       "  </thead>\n",
       "  <tbody>\n",
       "    <tr>\n",
       "      <th>0</th>\n",
       "      <td>prompt service wait wasn t bad organize food f...</td>\n",
       "      <td>5</td>\n",
       "      <td>208</td>\n",
       "      <td>Positive</td>\n",
       "    </tr>\n",
       "    <tr>\n",
       "      <th>1</th>\n",
       "      <td>soup dumpling wow m think day later try impres...</td>\n",
       "      <td>5</td>\n",
       "      <td>404</td>\n",
       "      <td>Positive</td>\n",
       "    </tr>\n",
       "    <tr>\n",
       "      <th>2</th>\n",
       "      <td>friend bring list place visit ny order crab be...</td>\n",
       "      <td>5</td>\n",
       "      <td>328</td>\n",
       "      <td>Positive</td>\n",
       "    </tr>\n",
       "    <tr>\n",
       "      <th>3</th>\n",
       "      <td>good pork dumpling world steamy soupy bite eat...</td>\n",
       "      <td>5</td>\n",
       "      <td>402</td>\n",
       "      <td>Positive</td>\n",
       "    </tr>\n",
       "    <tr>\n",
       "      <th>4</th>\n",
       "      <td>good get wonderful place time downtown manhatt...</td>\n",
       "      <td>5</td>\n",
       "      <td>457</td>\n",
       "      <td>Positive</td>\n",
       "    </tr>\n",
       "  </tbody>\n",
       "</table>\n",
       "</div>"
      ],
      "text/plain": [
       "                                              Review  Rating  Length Sentiment\n",
       "0  prompt service wait wasn t bad organize food f...       5     208  Positive\n",
       "1  soup dumpling wow m think day later try impres...       5     404  Positive\n",
       "2  friend bring list place visit ny order crab be...       5     328  Positive\n",
       "3  good pork dumpling world steamy soupy bite eat...       5     402  Positive\n",
       "4  good get wonderful place time downtown manhatt...       5     457  Positive"
      ]
     },
     "execution_count": 36,
     "metadata": {},
     "output_type": "execute_result"
    }
   ],
   "source": [
    "data.head()"
   ]
  },
  {
   "cell_type": "code",
   "execution_count": null,
   "metadata": {},
   "outputs": [],
   "source": [
    "# Convert text data into numerical features using TF-IDF\n",
    "tfidf = TfidfVectorizer(tokenizer=custom_tokenizer)"
   ]
  },
  {
   "cell_type": "code",
   "execution_count": null,
   "metadata": {},
   "outputs": [
    {
     "name": "stderr",
     "output_type": "stream",
     "text": [
      "C:\\Users\\A S U S\\AppData\\Local\\Packages\\PythonSoftwareFoundation.Python.3.12_qbz5n2kfra8p0\\LocalCache\\local-packages\\Python312\\site-packages\\sklearn\\feature_extraction\\text.py:525: UserWarning: The parameter 'token_pattern' will not be used since 'tokenizer' is not None'\n",
      "  warnings.warn(\n"
     ]
    }
   ],
   "source": [
    "X = tfidf.fit_transform(data['Review'])\n",
    "y = data['Sentiment']\n",
    "\n",
    "X_train, X_test, y_train, y_test = train_test_split(X, y, test_size=0.2, random_state=42)"
   ]
  },
  {
   "cell_type": "code",
   "execution_count": null,
   "metadata": {},
   "outputs": [],
   "source": [
    "# # lets train the model\n",
    "# models = {'LR' : LogisticRegression(), 'RF' : RandomForestClassifier(), 'NB' : MultinomialNB(), 'SVM' : SVC()}\n",
    "# vectorizers = {'TF-IDF' : TfidfVectorizer()}\n",
    "\n",
    "# parameters = {'LR' : {'C' : [0.001, 0.01, 0.1, 0.4]},\n",
    "#                 'RF' : {'n_estimators' : [50, 100, 200], 'max_depth' : [25, 30, 32, 35, 38]},\n",
    "#                 'NB' : {'alpha' : [0.5, 1, 2]},\n",
    "#                 'SVM' : {'C' : [0.1, 1, 10], 'gamma' : [0.1, 1, 2], 'kernel' : ['linear', 'rbf']}}\n",
    "# results = []\n",
    "\n",
    "\n",
    "# for model_name, model in models.items():\n",
    "#     for vectorizer_name, vectorizer in vectorizers.items():\n",
    "#         pipeline = GridSearchCV(model, parameters[model_name], cv=5)\n",
    "#         pipeline.fit(vectorizer.fit_transform(data['Review']), data['Sentiment'])\n",
    "#         results.append({'model' : model_name, 'vectorizer' : vectorizer_name, 'best_params' : pipeline.best_params_, 'best_score' : pipeline.best_score_})"
   ]
  },
  {
   "cell_type": "code",
   "execution_count": null,
   "metadata": {},
   "outputs": [],
   "source": [
    "# results = pd.DataFrame(results)\n",
    "# # lets see the params of random forest\n",
    "# results"
   ]
  },
  {
   "cell_type": "code",
   "execution_count": null,
   "metadata": {},
   "outputs": [
    {
     "name": "stdout",
     "output_type": "stream",
     "text": [
      "Cross-validation scores: [0.82122905 0.84357542 0.83379888 0.84357542 0.81005587]\n",
      "Average cross-validation score: 0.83\n"
     ]
    }
   ],
   "source": [
    "# lets try naive bayes \n",
    "model = MultinomialNB(alpha=2)\n",
    "model.fit(X_train, y_train)\n",
    "scores = cross_val_score(model, X_train, y_train, cv=5)\n",
    "print('Cross-validation scores: {}'.format(scores))\n",
    "print('Average cross-validation score: {:.2f}'.format(scores.mean()))"
   ]
  },
  {
   "cell_type": "code",
   "execution_count": null,
   "metadata": {},
   "outputs": [
    {
     "data": {
      "text/plain": [
       "array([[382,  52],\n",
       "       [100, 362]], dtype=int64)"
      ]
     },
     "execution_count": 130,
     "metadata": {},
     "output_type": "execute_result"
    }
   ],
   "source": [
    "accuracy_score(y_test, model.predict(X_test))\n",
    "confusion_matrix(y_test, model.predict(X_test))"
   ]
  },
  {
   "cell_type": "code",
   "execution_count": null,
   "metadata": {},
   "outputs": [
    {
     "name": "stdout",
     "output_type": "stream",
     "text": [
      "Cross-validation scores: [0.81564246 0.83240223 0.81145251 0.81005587 0.82122905]\n",
      "Average cross-validation score: 0.82\n"
     ]
    }
   ],
   "source": [
    "model = SVC(C=10, gamma=1, kernel='rbf')\n",
    "model.fit(X_train, y_train)\n",
    "scores = cross_val_score(model, X_train, y_train, cv=5)\n",
    "print('Cross-validation scores: {}'.format(scores))\n",
    "print('Average cross-validation score: {:.2f}'.format(scores.mean()))"
   ]
  },
  {
   "cell_type": "code",
   "execution_count": null,
   "metadata": {},
   "outputs": [
    {
     "data": {
      "text/plain": [
       "0.8158482142857143"
      ]
     },
     "execution_count": 108,
     "metadata": {},
     "output_type": "execute_result"
    }
   ],
   "source": [
    "y_pred = model.predict(X_test)\n",
    "accuracy_score(y_test, y_pred)"
   ]
  },
  {
   "cell_type": "code",
   "execution_count": 1,
   "metadata": {},
   "outputs": [
    {
     "name": "stderr",
     "output_type": "stream",
     "text": [
      "<>:32: SyntaxWarning: invalid escape sequence '\\s'\n",
      "<>:32: SyntaxWarning: invalid escape sequence '\\s'\n",
      "C:\\Users\\A S U S\\AppData\\Local\\Temp\\ipykernel_14572\\2475100309.py:32: SyntaxWarning: invalid escape sequence '\\s'\n",
      "  text = re.sub('\\s+', ' ', text)  # Replace multiple whitespace characters with a single space\n"
     ]
    }
   ],
   "source": [
    "import pandas as pd\n",
    "import numpy as np\n",
    "import spacy\n",
    "import re\n",
    "from sklearn.model_selection import train_test_split\n",
    "from sklearn.linear_model import LogisticRegression\n",
    "# from sklearn.ensemble import RandomForestClassifier\n",
    "# from sklearn.naive_bayes import MultinomialNB\n",
    "# from sklearn.svm import SVC\n",
    "from sklearn.feature_extraction.text import TfidfVectorizer\n",
    "from nltk.tokenize import word_tokenize\n",
    "# from sklearn.model_selection import GridSearchCV\n",
    "from sklearn.model_selection import cross_val_score\n",
    "from sklearn.metrics import accuracy_score, confusion_matrix, classification_report\n",
    "import streamlit as st\n",
    "from sklearn.base import BaseEstimator, TransformerMixin, ClassifierMixin\n",
    "from imblearn.pipeline import Pipeline\n",
    "\n",
    "\n",
    "class TextPreprocessor(BaseEstimator, TransformerMixin):\n",
    "    def __init__(self, tokenizer=word_tokenize):\n",
    "        self.tokenizer = tokenizer\n",
    "\n",
    "    def fit(self, X, y=None):\n",
    "        return self\n",
    "\n",
    "    def transform(self, X):\n",
    "        X_transformed = []\n",
    "        for text in X:\n",
    "            text = text.lower()  # Convert to lowercase\n",
    "            text = re.sub('[^a-zA-Z]', ' ', text)  # Keep only lowercase and uppercase letters\n",
    "            text = re.sub('\\s+', ' ', text)  # Replace multiple whitespace characters with a single space\n",
    "            text = self.tokenizer(text)  # Tokenize the text\n",
    "            X_transformed.append(text)\n",
    "        return X_transformed\n",
    "\n",
    "class TextVectorizer(BaseEstimator, TransformerMixin):\n",
    "    def __init__(self, vectorizer=TfidfVectorizer):\n",
    "        self.vectorizer = vectorizer\n",
    "\n",
    "    def fit(self, X, y=None):\n",
    "        self.vectorizer.fit(X)\n",
    "        return self\n",
    "\n",
    "    def transform(self, X):\n",
    "        X_transformed = self.vectorizer.transform(X)\n",
    "        return X_transformed\n",
    "    \n",
    "class SentimentClassifier(BaseEstimator, ClassifierMixin):\n",
    "    def __init__(self, classifier=LogisticRegression):\n",
    "        self.classifier = classifier\n",
    "\n",
    "    def fit(self, X, y):\n",
    "        self.classifier.fit(X, y)\n",
    "        return self\n",
    "\n",
    "    def predict(self, X):\n",
    "        return self.classifier.predict(X)\n",
    "\n",
    "    def score(self, X, y):\n",
    "        return self.classifier.score(X, y)\n",
    "    \n",
    "class SentimentPipeline:\n",
    "    def __init__(self, classifier=SentimentClassifier()):\n",
    "        self.classifier = classifier\n",
    "\n",
    "    def fit(self, X, y):\n",
    "        self.classifier.fit(X, y)\n",
    "\n",
    "    def predict(self, X):\n",
    "        return self.classifier.predict(X)\n",
    "\n",
    "    def score(self, X, y):\n",
    "        return self.classifier.score(X, y)\n"
   ]
  },
  {
   "cell_type": "code",
   "execution_count": 5,
   "metadata": {},
   "outputs": [],
   "source": [
    "from sklearn.feature_extraction.text import CountVectorizer\n",
    "from sklearn.ensemble import RandomForestClassifier\n",
    "pipeline = Pipeline(steps=[\n",
    "    ('text_cleaner', TextPreprocessor),\n",
    "    ('vectorizer', TextVectorizer),\n",
    "    ('classifier', SentimentClassifier),\n",
    "])"
   ]
  },
  {
   "cell_type": "code",
   "execution_count": 11,
   "metadata": {},
   "outputs": [
    {
     "data": {
      "text/plain": [
       "['Nlp_pipeline.pkl']"
      ]
     },
     "execution_count": 11,
     "metadata": {},
     "output_type": "execute_result"
    }
   ],
   "source": [
    "import joblib\n",
    "joblib.dump(pipeline,'Nlp_pipeline.pkl')"
   ]
  },
  {
   "cell_type": "code",
   "execution_count": null,
   "metadata": {},
   "outputs": [],
   "source": []
  }
 ],
 "metadata": {
  "kernelspec": {
   "display_name": "Python 3",
   "language": "python",
   "name": "python3"
  },
  "language_info": {
   "codemirror_mode": {
    "name": "ipython",
    "version": 3
   },
   "file_extension": ".py",
   "mimetype": "text/x-python",
   "name": "python",
   "nbconvert_exporter": "python",
   "pygments_lexer": "ipython3",
   "version": "3.12.3"
  }
 },
 "nbformat": 4,
 "nbformat_minor": 2
}
